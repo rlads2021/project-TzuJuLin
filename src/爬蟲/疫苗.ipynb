{
 "cells": [
  {
   "cell_type": "code",
   "execution_count": null,
   "metadata": {},
   "outputs": [
    {
     "name": "stderr",
     "output_type": "stream",
     "text": [
      "\n",
      "\n",
      "====== WebDriver manager ======\n",
      "Current google-chrome version is 91.0.4472\n",
      "Get LATEST driver version for 91.0.4472\n",
      "Driver [/Users/max/.wdm/drivers/chromedriver/mac64/91.0.4472.101/chromedriver] found in cache\n"
     ]
    }
   ],
   "source": [
    "from selenium import webdriver\n",
    "from selenium.webdriver.support.ui import Select\n",
    "from bs4 import BeautifulSoup\n",
    "from selenium import webdriver\n",
    "from webdriver_manager.chrome import ChromeDriverManager\n",
    "import time\n",
    "driver = webdriver.Chrome(ChromeDriverManager().install())\n",
    "#%pip install pandas\n",
    "import pandas as pd\n",
    "import lxml, html5lib\n",
    "import ssl\n",
    "ssl._create_default_https_context = ssl._create_unverified_context\n",
    "#%pip install openpyxl\n",
    "import openpyxl\n"
   ]
  },
  {
   "cell_type": "code",
   "execution_count": 1,
   "metadata": {},
   "outputs": [
    {
     "ename": "NameError",
     "evalue": "name 'webdriver' is not defined",
     "output_type": "error",
     "traceback": [
      "\u001b[0;31m---------------------------------------------------------------------------\u001b[0m",
      "\u001b[0;31mNameError\u001b[0m                                 Traceback (most recent call last)",
      "\u001b[0;32m<ipython-input-1-327d888bc1a6>\u001b[0m in \u001b[0;36m<module>\u001b[0;34m\u001b[0m\n\u001b[0;32m----> 1\u001b[0;31m \u001b[0mbrowser\u001b[0m \u001b[0;34m=\u001b[0m \u001b[0mwebdriver\u001b[0m\u001b[0;34m.\u001b[0m\u001b[0mChrome\u001b[0m\u001b[0;34m(\u001b[0m\u001b[0mexecutable_path\u001b[0m\u001b[0;34m=\u001b[0m\u001b[0;34m'/Users/jacky/Desktop/crawler/chromedriver'\u001b[0m\u001b[0;34m)\u001b[0m\u001b[0;34m\u001b[0m\u001b[0;34m\u001b[0m\u001b[0m\n\u001b[0m",
      "\u001b[0;31mNameError\u001b[0m: name 'webdriver' is not defined"
     ]
    }
   ],
   "source": [
    "browser = webdriver.Chrome(executable_path='/Users/max/Desktop/crawler/chromedriver')"
   ]
  },
  {
   "cell_type": "code",
   "execution_count": 4,
   "metadata": {},
   "outputs": [],
   "source": [
    "from selenium.webdriver.chrome.options import Options\n",
    "#options = Options()\n",
    "#options.add_argument(\"--disable-notifications\")  ## 擋掉彈跳視窗\n",
    "\n",
    "browser.get(\"https://www.ptt.cc/bbs/Gossiping/search?q=%E7%96%AB%E8%8B%97\") ##找到要爬的網頁\n",
    "\n",
    "#search.clear()\n",
    "search = browser.find_element_by_name(\"query\") ##找到「搜尋」那格的欄位\n",
    "search.send_keys(\"莫德納\") ##輸入你要的關鍵字「高端 國產疫苗/ bnt 輝瑞/ az/ moderna 莫德納」\n",
    "\n",
    "button = browser.find_elements_by_xpath(\"//button[@type = 'submit' ]\")[0] ##找到「搜尋」的按紐\n",
    "button.click()\n",
    "time.sleep(2)\n",
    "\n",
    "article_href=[]\n",
    "for i in range(1,13):  ##這是捲軸往下捲的次數，看你有多少文章要載入，來決定要捲幾次\n",
    "    browser.execute_script('window.scrollTo(0, document.body.scrollHeight);') ##javascript 指令，用selenium控制捲軸\n",
    "    soup = BeautifulSoup(browser.page_source)\n",
    "    results = soup.select('h2.tgn9uw-2.jWUdzO')\n",
    "    for item in results:\n",
    "        try:\n",
    "            item_href = item.select_one(\"a\").get(\"href\")\n",
    "            article_href.append(item_href.split('/')[4])\n",
    "        except:\n",
    "            continue;\n",
    "    time.sleep(5)"
   ]
  },
  {
   "cell_type": "code",
   "execution_count": 23,
   "metadata": {},
   "outputs": [
    {
     "name": "stderr",
     "output_type": "stream",
     "text": [
      "/Library/Frameworks/Python.framework/Versions/3.9/lib/python3.9/site-packages/urllib3/connectionpool.py:1013: InsecureRequestWarning: Unverified HTTPS request is being made to host 'www.ptt.cc'. Adding certificate verification is strongly advised. See: https://urllib3.readthedocs.io/en/latest/advanced-usage.html#ssl-warnings\n",
      "  warnings.warn(\n",
      "/Library/Frameworks/Python.framework/Versions/3.9/lib/python3.9/site-packages/urllib3/connectionpool.py:1013: InsecureRequestWarning: Unverified HTTPS request is being made to host 'www.ptt.cc'. Adding certificate verification is strongly advised. See: https://urllib3.readthedocs.io/en/latest/advanced-usage.html#ssl-warnings\n",
      "  warnings.warn(\n",
      "/Library/Frameworks/Python.framework/Versions/3.9/lib/python3.9/site-packages/urllib3/connectionpool.py:1013: InsecureRequestWarning: Unverified HTTPS request is being made to host 'www.ptt.cc'. Adding certificate verification is strongly advised. See: https://urllib3.readthedocs.io/en/latest/advanced-usage.html#ssl-warnings\n",
      "  warnings.warn(\n",
      "/Library/Frameworks/Python.framework/Versions/3.9/lib/python3.9/site-packages/urllib3/connectionpool.py:1013: InsecureRequestWarning: Unverified HTTPS request is being made to host 'www.ptt.cc'. Adding certificate verification is strongly advised. See: https://urllib3.readthedocs.io/en/latest/advanced-usage.html#ssl-warnings\n",
      "  warnings.warn(\n"
     ]
    }
   ],
   "source": [
    "len(article_href)"
   ]
  },
  {
   "cell_type": "code",
   "execution_count": 25,
   "metadata": {},
   "outputs": [],
   "source": [
    "import requests\n",
    "post_id=[]\n",
    "title =[]\n",
    "time_post = []\n",
    "content_text=[]\n",
    "\n",
    "for i in range(len(article_href)):\n",
    "    id_ = article_href[i]\n",
    "    url = 'https://www.dcard.tw/_api/posts/'+id_ ##dcard有給api，就把上面抓下來的id貼上去就好\n",
    "    requ = requests.get(url)\n",
    "    post_id.append(requ.json()['id'])\n",
    "    title.append(requ.json()['title'])\n",
    "    time_post.append(requ.json()['createdAt'])\n",
    "    content_text.append(requ.json()['content'])\n",
    "    "
   ]
  },
  {
   "cell_type": "code",
   "execution_count": 30,
   "metadata": {},
   "outputs": [
    {
     "data": {
      "text/plain": [
       "['/bbs/Gossiping/M.1620007795.A.7E3.html',\n",
       " '/bbs/Gossiping/M.1620007396.A.7F0.html',\n",
       " '/bbs/Gossiping/M.1620007167.A.B65.html',\n",
       " '/bbs/Gossiping/M.1620006662.A.0DF.html',\n",
       " '/bbs/Gossiping/M.1620006630.A.68A.html',\n",
       " '/bbs/Gossiping/M.1620006608.A.54E.html',\n",
       " '/bbs/Gossiping/M.1620005903.A.BD2.html',\n",
       " '/bbs/Gossiping/M.1620005860.A.159.html',\n",
       " '/bbs/Gossiping/M.1620002568.A.840.html',\n",
       " '/bbs/Gossiping/M.1620002266.A.AAA.html',\n",
       " '/bbs/Gossiping/M.1619968116.A.7EF.html',\n",
       " '/bbs/Gossiping/M.1619946107.A.2C8.html',\n",
       " '/bbs/Gossiping/M.1619945862.A.605.html',\n",
       " '/bbs/Gossiping/M.1619942986.A.14A.html',\n",
       " '/bbs/Gossiping/M.1619940847.A.07E.html',\n",
       " '/bbs/Gossiping/M.1619940031.A.889.html',\n",
       " '/bbs/Gossiping/M.1619938473.A.ACF.html',\n",
       " '/bbs/Gossiping/M.1619932974.A.BF9.html',\n",
       " '/bbs/Gossiping/M.1619932881.A.E00.html',\n",
       " '/bbs/Gossiping/M.1619930719.A.573.html']"
      ]
     },
     "execution_count": 30,
     "metadata": {},
     "output_type": "execute_result"
    }
   ],
   "source": [
    "import pandas as pd\n",
    "D= {'id': post_id, 'title':title,\n",
    "            'time': time_post, 'content':content_text}\n",
    "\n",
    "content_pd = pd.DataFrame(D)\n",
    "content_pd"
   ]
  },
  {
   "cell_type": "code",
   "execution_count": 2,
   "metadata": {},
   "outputs": [
    {
     "ename": "NameError",
     "evalue": "name 'content_pd' is not defined",
     "output_type": "error",
     "traceback": [
      "\u001b[0;31m---------------------------------------------------------------------------\u001b[0m",
      "\u001b[0;31mNameError\u001b[0m                                 Traceback (most recent call last)",
      "\u001b[0;32m<ipython-input-2-ca899851cff8>\u001b[0m in \u001b[0;36m<module>\u001b[0;34m\u001b[0m\n\u001b[0;32m----> 1\u001b[0;31m \u001b[0mcontent_pd\u001b[0m\u001b[0;34m.\u001b[0m\u001b[0mto_csv\u001b[0m\u001b[0;34m(\u001b[0m\u001b[0;34m\"/Users/max/Desktop/Dcard_莫德納.csv\"\u001b[0m\u001b[0;34m,\u001b[0m \u001b[0mencoding\u001b[0m \u001b[0;34m=\u001b[0m \u001b[0;34m\"utf_8_sig\"\u001b[0m\u001b[0;34m)\u001b[0m\u001b[0;34m\u001b[0m\u001b[0;34m\u001b[0m\u001b[0m\n\u001b[0m",
      "\u001b[0;31mNameError\u001b[0m: name 'content_pd' is not defined"
     ]
    }
   ],
   "source": [
    "content_pd.to_csv(\"/Users/max/Desktop/Dcard_莫德納.csv\", encoding = \"utf_8_sig\")"
   ]
  }
 ],
 "metadata": {
  "kernelspec": {
   "display_name": "Python 3",
   "language": "python",
   "name": "python3"
  },
  "language_info": {
   "codemirror_mode": {
    "name": "ipython",
    "version": 3
   },
   "file_extension": ".py",
   "mimetype": "text/x-python",
   "name": "python",
   "nbconvert_exporter": "python",
   "pygments_lexer": "ipython3",
   "version": "3.7.4"
  }
 },
 "nbformat": 4,
 "nbformat_minor": 5
}
